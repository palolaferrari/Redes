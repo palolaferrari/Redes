{
 "cells": [
  {
   "cell_type": "markdown",
   "metadata": {},
   "source": [
    "Descobrindo a senha\n",
    "===================\n",
    "\n"
   ]
  },
  {
   "cell_type": "markdown",
   "metadata": {},
   "source": [
    "## Objetivo\n",
    "\n"
   ]
  },
  {
   "cell_type": "markdown",
   "metadata": {},
   "source": [
    "Usar um algoritmo genético para descobrir uma senha.\n",
    "\n"
   ]
  },
  {
   "cell_type": "markdown",
   "metadata": {},
   "source": [
    "## Descrição do problema\n",
    "\n"
   ]
  },
  {
   "cell_type": "markdown",
   "metadata": {},
   "source": [
    "Neste problema, a função objetivo deve saber a senha correta e quantificar de alguma maneira o quão perto ou longe os palpites estão da solução (veja que isso é algo que não temos no mundo real. Nenhum site irá te dizer se você está acertando ou errando seu palpite). O critério de parada deste problema é quando a senha for descoberta.\n",
    "\n"
   ]
  },
  {
   "cell_type": "markdown",
   "metadata": {},
   "source": [
    "## Importações\n",
    "\n"
   ]
  },
  {
   "cell_type": "code",
   "execution_count": 1,
   "metadata": {},
   "outputs": [],
   "source": [
    "from funcoes import populacao_inicial_senha\n",
    "from funcoes import funcao_objetivo_pop_senha\n",
    "from funcoes import selecao_torneio_min\n",
    "from funcoes import cruzamento_ponto_simples as funcao_cruzamento\n",
    "from funcoes import mutacao_senha\n",
    "import random"
   ]
  },
  {
   "cell_type": "markdown",
   "metadata": {},
   "source": [
    "## Códigos e discussão\n",
    "\n"
   ]
  },
  {
   "cell_type": "code",
   "execution_count": 2,
   "metadata": {},
   "outputs": [],
   "source": [
    "# criar letras para a senha \n",
    "# juntar as letras\n",
    "# juntar as palavras\n",
    "# selecionar qual a senha que seja mais parecida com a nossa de acordo com a soma das letras (ord)\n",
    "# cruzamento e mutações\n",
    "\n",
    "### CONSTANTES\n",
    "\n",
    "# relacionadas à busca\n",
    "TAMANHO_POP = 50\n",
    "#NUM_GERACOES = 2000\n",
    "CHANCE_CRUZAMENTO = 0.5\n",
    "CHANCE_MUTACAO = 0.05\n",
    "NUM_COMBATENTES_NO_TORNEIO = 3\n",
    "\n",
    "# relacionadas ao problema a ser resulvido\n",
    "SENHA = \"correcthorsebatterystaple\"\n",
    "LETRAS_POSSIVEIS = \"abcdefghijklmnopqrstuvwxyz\"\n",
    "NUM_GENES = len(SENHA)"
   ]
  },
  {
   "cell_type": "code",
   "execution_count": 3,
   "metadata": {},
   "outputs": [],
   "source": [
    "# funções locais\n",
    "\n",
    "def cria_populacao_inicial(tamanho, tamanho_senha):\n",
    "    return populacao_inicial_senha(tamanho, tamanho_senha, LETRAS_POSSIVEIS)\n",
    "\n",
    "def funcao_objetivo_pop(populacao):\n",
    "    return funcao_objetivo_pop_senha(populacao, SENHA)\n",
    "\n",
    "def funcao_selecao(populacao, fitness):\n",
    "    return selecao_torneio_min(populacao, fitness, NUM_COMBATENTES_NO_TORNEIO)\n",
    "\n",
    "def funcao_mutacao(individuo):\n",
    "    return mutacao_senha(individuo, LETRAS_POSSIVEIS)"
   ]
  },
  {
   "cell_type": "code",
   "execution_count": 4,
   "metadata": {},
   "outputs": [
    {
     "name": "stdout",
     "output_type": "stream",
     "text": [
      "Progresso da melhor senha já vista:\n",
      "mrwddentqpxggbxygvvnriaic - fitness: 123\n",
      "yjqtgentqpxggbxygvvnriaic - fitness: 122\n",
      "fpozientqpxggbxygvvnriaic - fitness: 109\n",
      "fpozicntqptggbxygvvnriaic - fitness: 103\n",
      "fpozicntqptggbxrgvvnriaic - fitness: 100\n",
      "fpozicntqptggbxygvvnrihic - fitness: 96\n",
      "fpozicntqptggbxygvvnrhhic - fitness: 95\n",
      "fpozicntqptggbxtgvvnrhhic - fitness: 90\n",
      "fpozicntqptggbxtgvvnuhhic - fitness: 89\n",
      "fpozgcntqptggbxtgvvnrhhic - fitness: 88\n",
      "fpozgcntqptggbxtgvvnuhhic - fitness: 87\n",
      "fpozgcntqptggbxtgvvnuhmic - fitness: 82\n",
      "fpozgcncqptggbxtgvvnuhmic - fitness: 75\n",
      "fpopgcncqptggbxtgvvnuhmic - fitness: 69\n",
      "fpopgcrcqptggbxtgvvnuhmic - fitness: 65\n",
      "fpopgcrcqptggbxtgvvnuemic - fitness: 62\n",
      "fpopgcrcqptgebxtgvvnuemic - fitness: 60\n",
      "fpopgcrjqptggbxtgvvnuemic - fitness: 59\n",
      "fpopgcrjqptggbxtgvvtuemic - fitness: 55\n",
      "fpopgcrjqptgebxtgvvtuemic - fitness: 53\n",
      "fpopgcrjqptgebxtgtvtuemic - fitness: 51\n",
      "fpopgcrjqpteebxtgrvtuemic - fitness: 47\n",
      "fpopgcrjopteebxtgrvtuemic - fitness: 45\n",
      "fpqpgcrjopteebxtgrvtuemic - fitness: 43\n",
      "fpqpgcrjoptecbxtgrvtuemic - fitness: 41\n",
      "fpqpgcrjoptecbxtgrvtucmic - fitness: 39\n",
      "fpqpgcrioptecbxtgrvtucmic - fitness: 38\n",
      "fpqpgcriortecbxtgrvtucmic - fitness: 36\n",
      "fpqpgcuiortecbxtgrvtucmic - fitness: 35\n",
      "bpqpgcriortecbxtgrvtucmic - fitness: 34\n",
      "bpqpgcriortecbqtgrvtucmic - fitness: 33\n",
      "cpqpgcriortecbqtgrvtucmic - fitness: 32\n",
      "cpqpgcriortecbrtgrvtucmic - fitness: 31\n",
      "cpqpgcriortecbqtgrvtuamic - fitness: 30\n",
      "cpqpgcriortecbrtgrvtuamic - fitness: 29\n",
      "coqpgcriortecbrtgrvtuamic - fitness: 28\n",
      "coqpgcriortecbrtgrvtuamjc - fitness: 27\n",
      "coqpgcriortecbttgrvtuamjc - fitness: 25\n",
      "coqpgcriortecbrtgrytuamjg - fitness: 24\n",
      "coqpgcriortecbttgrytuamjg - fitness: 22\n",
      "coqqgcriortecbttgrytuamjg - fitness: 21\n",
      "coqpecriortecbttgrytuamjg - fitness: 20\n",
      "coqqecriortecbttgrytuamjg - fitness: 19\n",
      "coqqecriorsecbttgrytuamjg - fitness: 18\n",
      "coqqecriorsecattgrytuamjg - fitness: 17\n",
      "coqqecriorsecattgrytuarjg - fitness: 16\n",
      "coqqecriorsecattgrytuaojg - fitness: 15\n",
      "coqqecrhorsecattgrytuaojg - fitness: 14\n",
      "coqqecrhorsecattgrytuaomg - fitness: 13\n",
      "coqrecrhorsecattgrytuaomg - fitness: 12\n",
      "correcrhorsecattgrytuaomg - fitness: 11\n",
      "correcuhorsecattgrytuaomg - fitness: 10\n",
      "correcuhorsebattgrytuaomg - fitness: 9\n",
      "correcuhorsebattgrytuaomf - fitness: 8\n",
      "correcuhorsebatterytuaomf - fitness: 6\n",
      "correcuhorsebatterytuaolf - fitness: 5\n",
      "correcuhorsebatterytuaplf - fitness: 4\n",
      "correcuhorsebatteryttaplf - fitness: 3\n",
      "correcuhorsebatteryttaple - fitness: 2\n",
      "correcthorsebatteryttaple - fitness: 1\n",
      "correcthorsebatterystaple - fitness: 0\n",
      "\n",
      "Melhor palpite da senha encontrado:\n",
      "correcthorsebatterystaple\n"
     ]
    }
   ],
   "source": [
    "populacao = cria_populacao_inicial(TAMANHO_POP, NUM_GENES)\n",
    "\n",
    "melhor_fitness_ja_visto = float(\"inf\")  # é assim que escrevemos infinito em python\n",
    "\n",
    "print(\"Progresso da melhor senha já vista:\")\n",
    "\n",
    "while melhor_fitness_ja_visto !=0 :    \n",
    "    \n",
    "    # Seleção\n",
    "    fitness = funcao_objetivo_pop(populacao)\n",
    "    populacao = funcao_selecao(populacao, fitness)\n",
    "    \n",
    "    # Cruzamento\n",
    "    pais = populacao[0::2]\n",
    "    maes = populacao[1::2]\n",
    "    \n",
    "    contador = 0\n",
    "    \n",
    "    for pai, mae in zip(pais, maes):\n",
    "        if random.random() <= CHANCE_CRUZAMENTO:\n",
    "            filho1, filho2 = funcao_cruzamento(pai, mae)\n",
    "            populacao[contador] = filho1\n",
    "            populacao[contador + 1] = filho2\n",
    "        \n",
    "        contador = contador + 2   \n",
    "        \n",
    "    # Mutação\n",
    "    for n in range(len(populacao)):\n",
    "        if random.random() <= CHANCE_MUTACAO:\n",
    "            individuo = populacao[n]\n",
    "            populacao[n] = funcao_mutacao(individuo)            \n",
    "            \n",
    "    # melhor individuo já visto até agora\n",
    "    fitness = funcao_objetivo_pop(populacao)\n",
    "    menor_fitness = min(fitness)\n",
    "    if menor_fitness < melhor_fitness_ja_visto:        \n",
    "        posicao = fitness.index(menor_fitness)\n",
    "        melhor_individuo_ja_visto = populacao[posicao]\n",
    "        melhor_fitness_ja_visto = menor_fitness\n",
    "        print(\"\".join(melhor_individuo_ja_visto), \"- fitness:\", melhor_fitness_ja_visto)\n",
    "\n",
    "print()\n",
    "print(\"Melhor palpite da senha encontrado:\")\n",
    "print(\"\".join(melhor_individuo_ja_visto))"
   ]
  },
  {
   "cell_type": "markdown",
   "metadata": {},
   "source": [
    "#### Discussão \n",
    "\n",
    "Para a senha ser transformada em números, para assim ser comparada, utilizamos a função `ord`, que já tem determidado um valor para cada caracter.\n",
    "\n",
    "Usando a função roleta, que nos dá o quanto menor for a distância entre os nossos velores (palavras) melhor será o palpite. Também, mudamos o final do algoritmo central para fazer o 'hall da fama', para nos dar os melhores fitness que a função objetivo nos pode dar\n",
    "\n"
   ]
  },
  {
   "cell_type": "markdown",
   "metadata": {},
   "source": [
    "## Conclusão\n",
    "\n",
    "Para resolver o problema de adivinhar a senha, utilizando algoritmos genéticos. Usando o raciocínio do experimento anterior, porém criando funções locais, pois algumas das nossas funções do cógigo principal, começaram a possuir mais variáveis, e desta vez não buscamos uma maximização, mas sim uma minimização. Ao final, conseguimos chegar no nosso objetivo e a senha foi adivinhada na íntegra, com zero como número de fitness."
   ]
  },
  {
   "cell_type": "markdown",
   "metadata": {},
   "source": [
    "## Playground\n",
    "\n"
   ]
  },
  {
   "cell_type": "code",
   "execution_count": 5,
   "metadata": {},
   "outputs": [],
   "source": [
    "from funcoes import populacao_inicial_senha_variavel\n",
    "from funcoes import individuo_senha_variavel\n",
    "from funcoes import funcao_objetivo_pop_sv \n",
    "from funcoes import funcao_objetivo_sv\n"
   ]
  },
  {
   "cell_type": "code",
   "execution_count": 6,
   "metadata": {},
   "outputs": [],
   "source": [
    "LETRAS_POSSIVEIS = \"abcdefghijklmnopqrstuvwxyz\"\n",
    "MAX_TAMANHO = 100\n",
    "TAMANHO_POP = 3\n",
    "SENHA_REAL = 'olamundo'\n",
    "PESO_PENALIDADE = 5"
   ]
  },
  {
   "cell_type": "code",
   "execution_count": null,
   "metadata": {},
   "outputs": [],
   "source": []
  },
  {
   "cell_type": "code",
   "execution_count": null,
   "metadata": {},
   "outputs": [],
   "source": []
  }
 ],
 "metadata": {
  "kernelspec": {
   "display_name": "ilumpy",
   "language": "python",
   "name": "ilumpy"
  },
  "language_info": {
   "codemirror_mode": {
    "name": "ipython",
    "version": 3
   },
   "file_extension": ".py",
   "mimetype": "text/x-python",
   "name": "python",
   "nbconvert_exporter": "python",
   "pygments_lexer": "ipython3",
   "version": "3.9.7"
  },
  "org": null
 },
 "nbformat": 4,
 "nbformat_minor": 4
}
