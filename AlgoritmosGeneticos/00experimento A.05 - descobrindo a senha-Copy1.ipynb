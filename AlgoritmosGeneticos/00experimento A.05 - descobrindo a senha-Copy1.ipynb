{
 "cells": [
  {
   "cell_type": "markdown",
   "metadata": {},
   "source": [
    "Descobrindo a senha\n",
    "===================\n",
    "\n"
   ]
  },
  {
   "cell_type": "markdown",
   "metadata": {},
   "source": [
    "## Objetivo\n",
    "\n"
   ]
  },
  {
   "cell_type": "markdown",
   "metadata": {},
   "source": [
    "Usar um algoritmo genético para descobrir uma senha.\n",
    "\n"
   ]
  },
  {
   "cell_type": "markdown",
   "metadata": {},
   "source": [
    "## Descrição do problema\n",
    "\n"
   ]
  },
  {
   "cell_type": "markdown",
   "metadata": {},
   "source": [
    "Neste problema, a função objetivo deve saber a senha correta e quantificar de alguma maneira o quão perto ou longe os palpites estão da solução (veja que isso é algo que não temos no mundo real. Nenhum site irá te dizer se você está acertando ou errando seu palpite). O critério de parada deste problema é quando a senha for descoberta.\n",
    "\n"
   ]
  },
  {
   "cell_type": "markdown",
   "metadata": {},
   "source": [
    "## Importações\n",
    "\n"
   ]
  },
  {
   "cell_type": "code",
   "execution_count": 1,
   "metadata": {},
   "outputs": [],
   "source": [
    "from funcoes import populacao_inicial_senha\n",
    "from funcoes import funcao_objetivo_pop_senha\n",
    "from funcoes import selecao_torneio_min\n",
    "from funcoes import cruzamento_ponto_simples as funcao_cruzamento\n",
    "from funcoes import mutacao_senha\n",
    "import random"
   ]
  },
  {
   "cell_type": "markdown",
   "metadata": {},
   "source": [
    "## Códigos e discussão\n",
    "\n"
   ]
  },
  {
   "cell_type": "code",
   "execution_count": 5,
   "metadata": {},
   "outputs": [],
   "source": [
    "# criar letras para a senha \n",
    "# juntar as letras\n",
    "# juntar as palavras\n",
    "# selecionar qual a senha que seja mais parecida com a nossa de acordo com a soma das letras (ord)\n",
    "# cruzamento e mutações\n",
    "\n",
    "### CONSTANTES\n",
    "\n",
    "# relacionadas à busca\n",
    "TAMANHO_POP = 50\n",
    "#NUM_GERACOES = 2000\n",
    "CHANCE_CRUZAMENTO = 0.5\n",
    "CHANCE_MUTACAO = 0.05\n",
    "NUM_COMBATENTES_NO_TORNEIO = 3\n",
    "\n",
    "# relacionadas ao problema a ser resulvido\n",
    "SENHA = \"correcthorsebatterystaple\"\n",
    "LETRAS_POSSIVEIS = \"abcdefghijklmnopqrstuvwxyz\"\n",
    "NUM_GENES = len(SENHA)"
   ]
  },
  {
   "cell_type": "code",
   "execution_count": 3,
   "metadata": {},
   "outputs": [],
   "source": [
    "# funções locais\n",
    "\n",
    "def cria_populacao_inicial(tamanho, tamanho_senha):\n",
    "    return populacao_inicial_senha(tamanho, tamanho_senha, LETRAS_POSSIVEIS)\n",
    "\n",
    "def funcao_objetivo_pop(populacao):\n",
    "    return funcao_objetivo_pop_senha(populacao, SENHA)\n",
    "\n",
    "def funcao_selecao(populacao, fitness):\n",
    "    return selecao_torneio_min(populacao, fitness, NUM_COMBATENTES_NO_TORNEIO)\n",
    "\n",
    "def funcao_mutacao(individuo):\n",
    "    return mutacao_senha(individuo, LETRAS_POSSIVEIS)"
   ]
  },
  {
   "cell_type": "code",
   "execution_count": 4,
   "metadata": {},
   "outputs": [
    {
     "name": "stdout",
     "output_type": "stream",
     "text": [
      "Progresso da melhor senha já vista:\n",
      "hpkfcikfzyqpakwvnngxoetki - fitness: 145\n",
      "fmdyhelejlyjseytcgsvoeeje - fitness: 134\n",
      "dvxofdtenmjbhpwwgllxwgtmk - fitness: 113\n",
      "dvxofdtenmyjseytcgsvoeeje - fitness: 109\n",
      "dvxofdtenmjbhpwwglsxwgtmk - fitness: 106\n",
      "dvxofdtenmjegpwwgllxwgtme - fitness: 103\n",
      "dvxofdtenmjbhjwwglsxwgtmk - fitness: 100\n",
      "dvxofdtenmjbhhwwglsxwgtmk - fitness: 98\n",
      "dvxofdtenmjbhhwwgllutetmk - fitness: 97\n",
      "dvxofdtenmjbhhwwglsxwgtme - fitness: 92\n",
      "dvxofdtenmsbhhwwglsowgtmk - fitness: 88\n",
      "dvxofdtenmsbhhwwglsowgtme - fitness: 82\n",
      "dvxofdtenlsbhawwglsxwgtme - fitness: 77\n",
      "dvxofdtenlsbhawwglsowgtme - fitness: 76\n",
      "dvxofdtenmsbhawwglsowgtme - fitness: 75\n",
      "dvxofdtenmsbhawwglspwgtme - fitness: 74\n",
      "dvxofdtenmsbhawwglvowgtme - fitness: 72\n",
      "dvxofdtenmsbhauwglvowgtme - fitness: 70\n",
      "dvxofdtenmsbhauwglvowgsme - fitness: 69\n",
      "dvxofdtenmsbhauwglvtwgtme - fitness: 67\n",
      "dvxofdtenmsbhauwglvotgsme - fitness: 66\n",
      "dvqofdtenmsbhauwglvowgsme - fitness: 64\n",
      "dvqofdtenmsbhauwglvotgsme - fitness: 61\n",
      "dvqofdtenmsbhauwglvttgsme - fitness: 58\n",
      "dvqofdtenvsbhauwglvttgsme - fitness: 57\n",
      "dvqofdtenosbhauwglvttgsme - fitness: 56\n",
      "dvqoedtenosbhauwglvttgsme - fitness: 55\n",
      "dvqoedtenosbhauwguvttgsme - fitness: 52\n",
      "dvqoedtenosbhauwguwttgsme - fitness: 51\n",
      "dvqoedtenosbhauwcswttgsme - fitness: 49\n",
      "dpqoedtenosbhauwguwttgsme - fitness: 45\n",
      "dpqoedtenosbhauwcswttgsme - fitness: 43\n",
      "dpqoedtenosbeauwguwttgsme - fitness: 42\n",
      "dpqoedtenosbeauwgswttgsme - fitness: 40\n",
      "dpqoedtenosbeautgswttgsme - fitness: 37\n",
      "dpqoedtenosdeautgswttgsme - fitness: 35\n",
      "dpqoedtenosdeautgswttgome - fitness: 33\n",
      "dpqoedtenosdeautgszttgome - fitness: 32\n",
      "dpqoedtenosdbautgswttgome - fitness: 30\n",
      "dpqoedtenosdeautgszttaome - fitness: 26\n",
      "dpqoedtenosdbautgszttcome - fitness: 25\n",
      "dpqoedthnosdbautgszttcome - fitness: 22\n",
      "dpqoedthnosdbautgszttaome - fitness: 20\n",
      "dpqoedthnosdbautfszttaome - fitness: 19\n",
      "dpqoedthntsdbautfszttaome - fitness: 18\n",
      "dpqoedthntsdbautfszttaole - fitness: 17\n",
      "dpqqedthntsdbautfszttaole - fitness: 15\n",
      "dpqqedthntsdbauteszttaole - fitness: 14\n",
      "dpqqedthntsdbatteszttaole - fitness: 13\n",
      "dpqqedthnssdbatteszttaole - fitness: 12\n",
      "doqqedthnssdbatteszttaole - fitness: 11\n",
      "dorqedthnssdbatteszttaole - fitness: 10\n",
      "doqqecthnrsdbatteszttaole - fitness: 9\n",
      "coqqecthnrsdbatteszttaole - fitness: 8\n",
      "doqqecthnrsebattesyttaole - fitness: 7\n",
      "coqqecthnrsebattesyttaole - fitness: 6\n",
      "coqqecthorsebattesyttaole - fitness: 5\n",
      "corqecthorsebattesyttaole - fitness: 4\n",
      "corqecthorsebatteryttaole - fitness: 3\n",
      "corqecthorsebatteryttaple - fitness: 2\n",
      "corqecthorsebatterystaple - fitness: 1\n",
      "correcthorsebatterystaple - fitness: 0\n",
      "\n",
      "Melhor palpite da senha encontrado:\n",
      "correcthorsebatterystaple\n"
     ]
    }
   ],
   "source": [
    "populacao = cria_populacao_inicial(TAMANHO_POP, NUM_GENES)\n",
    "\n",
    "melhor_fitness_ja_visto = float(\"inf\")  # é assim que escrevemos infinito em python\n",
    "\n",
    "print(\"Progresso da melhor senha já vista:\")\n",
    "\n",
    "while melhor_fitness_ja_visto !=0 :    \n",
    "    \n",
    "    # Seleção\n",
    "    fitness = funcao_objetivo_pop(populacao)\n",
    "    populacao = funcao_selecao(populacao, fitness)\n",
    "    \n",
    "    # Cruzamento\n",
    "    pais = populacao[0::2]\n",
    "    maes = populacao[1::2]\n",
    "    \n",
    "    contador = 0\n",
    "    \n",
    "    for pai, mae in zip(pais, maes):\n",
    "        if random.random() <= CHANCE_CRUZAMENTO:\n",
    "            filho1, filho2 = funcao_cruzamento(pai, mae)\n",
    "            populacao[contador] = filho1\n",
    "            populacao[contador + 1] = filho2\n",
    "        \n",
    "        contador = contador + 2   \n",
    "        \n",
    "    # Mutação\n",
    "    for n in range(len(populacao)):\n",
    "        if random.random() <= CHANCE_MUTACAO:\n",
    "            individuo = populacao[n]\n",
    "            populacao[n] = funcao_mutacao(individuo)            \n",
    "            \n",
    "    # melhor individuo já visto até agora\n",
    "    fitness = funcao_objetivo_pop(populacao)\n",
    "    menor_fitness = min(fitness)\n",
    "    if menor_fitness < melhor_fitness_ja_visto:        \n",
    "        posicao = fitness.index(menor_fitness)\n",
    "        melhor_individuo_ja_visto = populacao[posicao]\n",
    "        melhor_fitness_ja_visto = menor_fitness\n",
    "        print(\"\".join(melhor_individuo_ja_visto), \"- fitness:\", melhor_fitness_ja_visto)\n",
    "\n",
    "print()\n",
    "print(\"Melhor palpite da senha encontrado:\")\n",
    "print(\"\".join(melhor_individuo_ja_visto))"
   ]
  },
  {
   "cell_type": "markdown",
   "metadata": {},
   "source": [
    "## Conclusão\n",
    "\n",
    "Para resolver o problema de adivinhar a senha, utilizando algoritmos genéticos e transformando letras em números através da função `ord`. Usando o raciocínio do experimento anterior, porém criando funções locais, pois algumas das nossas funções do cógigo principal, começaram a possuir mais variáveis, e desta vez não buscamos uma maximização, mas sim uma minimização, usando a função roleta, que nos dá o quanto menor for a distância entre os nossos velores (palavras) melhor será o palpite. Também, mudamos o final do algoritmo central para fazer o 'hall da fama', para nos dar os melhores fitness que a função objetivo nos pode dar. Ao final, conseguimos chegar no nosso objetivo e a senha foi adivinhada na íntegra, com zero como número de fitness."
   ]
  },
  {
   "cell_type": "markdown",
   "metadata": {},
   "source": [
    "## Playground\n",
    "\n"
   ]
  },
  {
   "cell_type": "code",
   "execution_count": null,
   "metadata": {},
   "outputs": [],
   "source": []
  }
 ],
 "metadata": {
  "kernelspec": {
   "display_name": "ilumpy",
   "language": "python",
   "name": "ilumpy"
  },
  "language_info": {
   "codemirror_mode": {
    "name": "ipython",
    "version": 3
   },
   "file_extension": ".py",
   "mimetype": "text/x-python",
   "name": "python",
   "nbconvert_exporter": "python",
   "pygments_lexer": "ipython3",
   "version": "3.9.7"
  },
  "org": null
 },
 "nbformat": 4,
 "nbformat_minor": 4
}
