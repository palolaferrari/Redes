{
 "cells": [
  {
   "cell_type": "markdown",
   "metadata": {},
   "source": [
    "experimento GA.03 - caixeiro com gasolina infinita\n",
    "========================================\n",
    "\n"
   ]
  },
  {
   "cell_type": "markdown",
   "metadata": {},
   "source": [
    "## Introdução\n",
    "\n"
   ]
  },
  {
   "cell_type": "markdown",
   "metadata": {},
   "source": [
    "O caixeiro com gasolina infinita é um experimento que consiste em simular um caixeiro viajante que passa por cidades e nesse caso temos que achar qual seria a maior possibilidade de caminho, sem que ele passe duas vezes pela mesma cidade. As distâncias entre as cidades serão calculadas de forma aleatória, sendo assim para cada vez que rodamos o código teremos novas cidades e novas distâncias. \n",
    "\n"
   ]
  },
  {
   "cell_type": "markdown",
   "metadata": {},
   "source": [
    "## Objetivo\n",
    "\n"
   ]
  },
  {
   "cell_type": "markdown",
   "metadata": {},
   "source": [
    "Encontrar uma solução para o problema do caixeiro viajante. Considere que ele irá visitar 7 ou mais cidades, pode iniciar sua viagem por qualquer uma destas cidades e deve retornar à cidade de início. Durante seu trajeto, não pode visitar a mesma cidade duas vezes (única exceção é a cidade inicial), sendo que temos que achar o maior caminho possível e mostrar a representação gráfica. \n",
    "\n"
   ]
  },
  {
   "cell_type": "markdown",
   "metadata": {},
   "source": [
    "## Importações\n",
    "\n"
   ]
  },
  {
   "cell_type": "code",
   "execution_count": 9,
   "metadata": {},
   "outputs": [],
   "source": [
    "import random\n",
    "from itertools import permutations\n",
    "import networkx as nx\n",
    "\n",
    "from funcoes import populacao_inicial_cv as cria_populacao_inicial\n",
    "from funcoes import funcao_objetivo_pop_cv_gasolina\n",
    "from funcoes import funcao_objetivo_cv_gasolina\n",
    "from funcoes import selecao_torneio_min   # esse já temos!\n",
    "from funcoes import cruzamento_ordenado as funcao_cruzamento\n",
    "from funcoes import mutacao_de_troca as funcao_mutacao\n",
    "from funcoes import selecao_torneio_min as funcao_selecao # esse já temos!\n",
    "from funcoes import cria_cidades\n"
   ]
  },
  {
   "cell_type": "markdown",
   "metadata": {},
   "source": [
    "## Códigos e discussão\n",
    "\n"
   ]
  },
  {
   "cell_type": "code",
   "execution_count": 2,
   "metadata": {},
   "outputs": [],
   "source": [
    "### CONSTANTES\n",
    "\n",
    "# relacionadas à busca\n",
    "TAMANHO_POP = 50\n",
    "CHANCE_CRUZAMENTO = 0.5\n",
    "CHANCE_MUTACAO = 0.05\n",
    "NUM_COMBATENTES_NO_TORNEIO = 3\n",
    "NUM_GERACOES = 1000\n",
    "\n",
    "\n",
    "# relacionadas ao problema a ser resolvido\n",
    "NUMERO_DE_CIDADES = 8\n",
    "CIDADES = cria_cidades(NUMERO_DE_CIDADES)\n"
   ]
  },
  {
   "cell_type": "code",
   "execution_count": 3,
   "metadata": {},
   "outputs": [],
   "source": [
    "def cria_cidades(n):\n",
    "    \"\"\"Cria um dicionário aleatório de cidades com suas posições (x,y).\n",
    "    Args:\n",
    "      n: inteiro positivo\n",
    "        Número de cidades que serão visitadas pelo caixeiro.\n",
    "    Returns:\n",
    "      Dicionário contendo o nome das cidades como chaves e a coordenada no plano\n",
    "      cartesiano das cidades como valores.\n",
    "    \"\"\"\n",
    "\n",
    "    cidades = {}\n",
    "\n",
    "    for i in range(n):\n",
    "        cidades[f\"Cidade {i}\"] = (random.random(), random.random()) #criamos por tuplas, para nao mudar onde estão as cidades durante o provblema\n",
    "\n",
    "    return cidades\n"
   ]
  },
  {
   "cell_type": "code",
   "execution_count": 4,
   "metadata": {},
   "outputs": [],
   "source": [
    "# Funções locais\n",
    "\n",
    "def funcao_objetivo_pop(populacao):\n",
    "    return funcao_objetivo_pop_cv_gasolina(populacao, CIDADES)\n",
    "\n",
    "def funcao_objetivo_individuo(individuo):\n",
    "    return funcao_objetivo_cv_gasolina(individuo, CIDADES)"
   ]
  },
  {
   "cell_type": "code",
   "execution_count": 11,
   "metadata": {},
   "outputs": [],
   "source": [
    "# Busca por algoritmo genético\n",
    "\n",
    "populacao = cria_populacao_inicial(TAMANHO_POP, CIDADES)\n",
    "\n",
    "melhor_fitness_ja_visto = float(\"inf\")  # é assim que escrevemos infinito em python\n",
    "\n",
    "for n in range(NUM_GERACOES):\n",
    "    \n",
    "    # Seleção\n",
    "    fitness = funcao_objetivo_pop(populacao)\n",
    "    populacao = funcao_selecao(populacao, fitness)\n",
    "    \n",
    "    # Cruzamento\n",
    "    pais = populacao[0::2]\n",
    "    maes = populacao[1::2]\n",
    "    \n",
    "    contador = 0\n",
    "    \n",
    "    for pai, mae in zip(pais, maes):\n",
    "        if random.random() <= CHANCE_CRUZAMENTO:\n",
    "            filho1, filho2 = funcao_cruzamento(pai, mae)\n",
    "            populacao[contador] = filho1\n",
    "            populacao[contador + 1] = filho2\n",
    "        \n",
    "        contador = contador + 2   \n",
    "        \n",
    "    # Mutação\n",
    "    for n in range(len(populacao)):\n",
    "        if random.random() <= CHANCE_MUTACAO:\n",
    "            individuo = populacao[n]\n",
    "            populacao[n] = funcao_mutacao(individuo)            \n",
    "            \n",
    "    # melhor individuo já visto até agora\n",
    "    fitness = funcao_objetivo_pop(populacao)\n",
    "    menor_fitness = min(fitness)\n",
    "    if menor_fitness < melhor_fitness_ja_visto:        \n",
    "        posicao = fitness.index(menor_fitness)\n",
    "        melhor_individuo_ja_visto = populacao[posicao]\n",
    "        melhor_fitness_ja_visto = menor_fitness  "
   ]
  },
  {
   "cell_type": "code",
   "execution_count": 12,
   "metadata": {},
   "outputs": [],
   "source": [
    "# Busca testando todas as permutações\n",
    "\n",
    "melhor_fitness_ever = float(\"inf\")\n",
    "\n",
    "# testando todas as permutações possíveis\n",
    "for caminho in permutations(list(CIDADES.keys())):\n",
    "    distancia = funcao_objetivo_individuo(caminho)\n",
    "    if distancia < melhor_fitness_ever:\n",
    "        melhor_fitness_ever = distancia\n",
    "        melhor_resposta_ever = caminho"
   ]
  },
  {
   "cell_type": "code",
   "execution_count": 19,
   "metadata": {},
   "outputs": [
    {
     "name": "stdout",
     "output_type": "stream",
     "text": [
      "\n",
      "Melhor individuo obtido por algoritmos genéticos:\n",
      "['Cidade 3', 'Cidade 4', 'Cidade 6', 'Cidade 1', 'Cidade 7', 'Cidade 5', 'Cidade 0', 'Cidade 2'] com distância: 5.362213325971295\n",
      "\n",
      "Melhor individuo obtido por busca exaustiva:\n",
      "('Cidade 0', 'Cidade 4', 'Cidade 7', 'Cidade 1', 'Cidade 6', 'Cidade 5', 'Cidade 3', 'Cidade 2') com distância: 5.362213325971295\n"
     ]
    }
   ],
   "source": [
    "# Checando os resultados\n",
    "\n",
    "print()\n",
    "print(\"Melhor individuo obtido por algoritmos genéticos:\")\n",
    "print(melhor_individuo_ja_visto, \"com distância:\",abs( melhor_fitness_ja_visto))\n",
    "\n",
    "print()\n",
    "print(\"Melhor individuo obtido por busca exaustiva:\")\n",
    "print(melhor_resposta_ever, \"com distância:\", abs(melhor_fitness_ever))"
   ]
  },
  {
   "cell_type": "code",
   "execution_count": 16,
   "metadata": {},
   "outputs": [
    {
     "data": {
      "image/png": "[encoded data removed]",
      "text/plain": [
       "<Figure size 432x288 with 1 Axes>"
      ]
     },
     "metadata": {},
     "output_type": "display_data"
    }
   ],
   "source": [
    "# Representação gráfica:\n",
    "g = nx.Graph()\n",
    "for i in list(CIDADES.keys()):\n",
    "    g.add_node(i)\n",
    "k = -1\n",
    "while k < len(melhor_individuo_ja_visto)-1:\n",
    "    g.add_edge(melhor_individuo_ja_visto[k], melhor_individuo_ja_visto[k+1])\n",
    "    k+=1\n",
    "vertices = CIDADES.keys()\n",
    "pos = nx.spring_layout(g,pos=CIDADES, fixed = vertices)\n",
    "nx.draw_networkx(g,pos,node_color = 'b')"
   ]
  },
  {
   "cell_type": "markdown",
   "metadata": {},
   "source": [
    "#### discussão \n",
    "\n",
    "A função objetivo pega menos a distância, porque é um problema de maximização, quando nós comparamos com o problema do caixeiro viajante normal. Outro problema que surgiu foi a maior distância que ficou negativa, porém o número estava certo, para remediar isso, foi necessário pegar só o `abs` da melhor distância."
   ]
  },
  {
   "cell_type": "markdown",
   "metadata": {},
   "source": [
    "## Conclusão\n",
    "\n"
   ]
  },
  {
   "cell_type": "markdown",
   "metadata": {},
   "source": [
    "\n",
    "O problema do caixeiro viajante com gasolina infinita consiste em encontrar a rota mais curta para um caixeiro que precisa visitar todas as cidades em um mapa, sem se preocupar com o consumo de combustível, ou seja, assumindo que a gasolina é infinita.\n",
    "\n",
    "Para solucionar esse problema usando algoritmos genéticos, podemos representar cada solução como uma sequência de cidades que devem ser visitadas e aplicar operadores de seleção, recombinação e mutação em uma população de soluções candidatas. O objetivo é encontrar a solução mais curta, ou seja, aquela que minimiza a distância total percorrida pelo caixeiro.\n",
    "\n",
    "Ao final, chegamos à lista com a sequência de cidades que se encaixa ao nosso problema, o qual um gráfo é plotado mostrando as cidades, e o comparamos com uma busca exaustiva, sendo que os resultados foram iguais e o algoritmo genético tende a ser mais rápido para rodar.\n"
   ]
  },
  {
   "cell_type": "markdown",
   "metadata": {},
   "source": [
    "## Playground\n",
    "\n"
   ]
  },
  {
   "cell_type": "markdown",
   "metadata": {},
   "source": [
    "Todo código de teste que não faz parte do seu experimento deve vir aqui. Este código não será considerado na avaliação.\n",
    "\n"
   ]
  },
  {
   "cell_type": "code",
   "execution_count": null,
   "metadata": {},
   "outputs": [],
   "source": []
  },
  {
   "cell_type": "code",
   "execution_count": null,
   "metadata": {},
   "outputs": [],
   "source": []
  },
  {
   "cell_type": "code",
   "execution_count": null,
   "metadata": {},
   "outputs": [],
   "source": []
  }
 ],
 "metadata": {
  "kernelspec": {
   "display_name": "ilumpy",
   "language": "python",
   "name": "ilumpy"
  },
  "language_info": {
   "codemirror_mode": {
    "name": "ipython",
    "version": 3
   },
   "file_extension": ".py",
   "mimetype": "text/x-python",
   "name": "python",
   "nbconvert_exporter": "python",
   "pygments_lexer": "ipython3",
   "version": "3.9.7"
  },
  "org": null
 },
 "nbformat": 4,
 "nbformat_minor": 4
}
