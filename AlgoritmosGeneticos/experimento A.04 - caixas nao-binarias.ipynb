{
 "cells": [
  {
   "cell_type": "markdown",
   "metadata": {},
   "source": [
    "Problema das caixas não-binárias\n",
    "================================\n",
    "\n"
   ]
  },
  {
   "cell_type": "markdown",
   "metadata": {},
   "source": [
    "## Objetivo\n",
    "\n"
   ]
  },
  {
   "cell_type": "markdown",
   "metadata": {},
   "source": [
    "Encontrar uma solução para o problema das caixas não-binárias usando um algoritmo genético. Considere 4 caixas. Considere que cada caixa pode ter um valor inteiro dentro do conjunto [0, 100].\n",
    "\n"
   ]
  },
  {
   "cell_type": "markdown",
   "metadata": {},
   "source": [
    "## Descrição do problema\n",
    "\n"
   ]
  },
  {
   "cell_type": "markdown",
   "metadata": {},
   "source": [
    "O problema das caixas não-binárias é simples: nós temos um certo número de caixas e cada uma pode conter um número inteiro. O objetivo é encontrar uma combinação de caixas onde a soma dos valores contidos dentro delas é máximo.\n",
    "\n"
   ]
  },
  {
   "cell_type": "markdown",
   "metadata": {},
   "source": [
    "## Importações\n",
    "\n"
   ]
  },
  {
   "cell_type": "code",
   "execution_count": 1,
   "metadata": {},
   "outputs": [],
   "source": [
    "import random\n",
    "from funcoes import populacao_cnb\n",
    "from funcoes import funcao_objetivo_pop_cnb as funcao_objetivo_pop\n",
    "from funcoes import selecao_roleta_max as funcao_selecao\n",
    "\n",
    "from funcoes import cruzamento_ponto_simples as funcao_cruzamento\n",
    "\n",
    "from funcoes import mutacao_cnb"
   ]
  },
  {
   "cell_type": "markdown",
   "metadata": {},
   "source": [
    "## Códigos e discussão\n",
    "\n"
   ]
  },
  {
   "cell_type": "code",
   "execution_count": 2,
   "metadata": {},
   "outputs": [],
   "source": [
    "### constantes \n",
    "\n",
    "#relacionada à busca \n",
    "TAMANHO_POP = 5\n",
    "NUM_GENES = 4\n",
    "NUM_GERACOES = 57\n",
    "CHANCE_CRUZAMENTO = 0.5\n",
    "CHANCE_MUTACAO = 0.05\n",
    "\n",
    "#relacionada ao problema a ser resolvido\n",
    "NUM_GENES = 4\n",
    "VALOR_MAX_CAIXA = 100"
   ]
  },
  {
   "cell_type": "code",
   "execution_count": 3,
   "metadata": {},
   "outputs": [],
   "source": [
    "# temos que alterar algumas funções\n",
    "# usa função parcial/temporária/locais: vamos usá-la somente dentro do arquivo jupyter\n",
    "def cria_populacao_inicial(tamanho, n_genes):\n",
    "    return populacao_cnb(tamanho, n_genes, VALOR_MAX_CAIXA)\n",
    "\n",
    "def funcao_mutacao(individuo):\n",
    "    return mutacao_cnb(individuo, VALOR_MAX_CAIXA)\n",
    "    "
   ]
  },
  {
   "cell_type": "code",
   "execution_count": 4,
   "metadata": {},
   "outputs": [
    {
     "name": "stdout",
     "output_type": "stream",
     "text": [
      "População inicial:\n",
      "[[17, 82, 43, 57], [80, 15, 89, 58], [74, 30, 99, 30], [78, 91, 91, 91], [68, 75, 11, 69]]\n",
      "População final:\n",
      "[[74, 15, 89, 58], [74, 15, 89, 58], [74, 15, 89, 58], [74, 15, 89, 58], [78, 91, 91, 58]]\n"
     ]
    }
   ],
   "source": [
    "# quero fazer um algoritmo somente para seleção, depois com cruzamento e depois com mutacao\n",
    "\n",
    "# algoritmo que cria uma população (4 individuos), 57 vezes e tenta chegar na melhor possível.\n",
    "\n",
    "\n",
    "populacao = cria_populacao_inicial (TAMANHO_POP, NUM_GENES)\n",
    "\n",
    "print('População inicial:')\n",
    "print (populacao)\n",
    "\n",
    "for n in range(NUM_GENES): #coloca o _ caso esse número não for importante\n",
    "    fitness = funcao_objetivo_pop(populacao)\n",
    "    populacao = funcao_selecao(populacao, fitness)\n",
    "    \n",
    "    # começa a parte para cruzamento:\n",
    "    \n",
    "    pais = populacao[0::2] # vao pegar de dois em dois, para ser individuos na populacao diferentes\n",
    "    maes = populacao[1::2]\n",
    "    contador = 0\n",
    "    \n",
    "    for pai, mae in zip(pais, maes): #criterio de parada: menor lista\n",
    "        if random.random() < CHANCE_CRUZAMENTO:\n",
    "            filho1, filho2 = funcao_cruzamento(pai, mae)\n",
    "            populacao[contador] = filho1\n",
    "            populacao[contador + 1] = filho2\n",
    "        \n",
    "        contador = contador + 2\n",
    "    \n",
    "    #começa a parte de mutação:\n",
    "    \n",
    "    for n in range(len(populacao)):\n",
    "        if random.random() <= CHANCE_MUTACAO:\n",
    "            individuo = populacao[n]\n",
    "            populacao[n] = funcao_mutacao(individuo)\n",
    "    \n",
    "\n",
    "        \n",
    "\n",
    "print('População final:')\n",
    "print (populacao)\n",
    "\n",
    "#apenas seleçãoo e cruzamento não trazem informações novas para o nosso sistema = precisamos de mutações.\n",
    "\n",
    "# a cada passo, chegamos mais perto na nossa resposta, ainda mais com as mutações e os breakthru (indivíduos que são melhores do que \n",
    "# todos os que vieram antes). "
   ]
  },
  {
   "cell_type": "markdown",
   "metadata": {},
   "source": [
    "## Conclusão\n",
    "\n",
    "Para resolver o  problema das caixas não-binárias usando algoritmo genético, utilizamos a técnica de corte de listas principalmente. Utilizamos grande parte do raciocínio da aitividade anterior mundando somente as funções, aquelas que precisaram de mudanças específicas foram colocadas direto no nosso notebook. Assim como os outros algoritmos, ainda não muito provável que nós cheguemos no maior valor possível, por conta das mutações que são aleatórias e podem ocorrer para aumentar o valor dos nossos indivíduos como para diminuir.\n"
   ]
  },
  {
   "cell_type": "markdown",
   "metadata": {},
   "source": [
    "## Playground\n",
    "\n"
   ]
  },
  {
   "cell_type": "code",
   "execution_count": null,
   "metadata": {},
   "outputs": [],
   "source": []
  }
 ],
 "metadata": {
  "kernelspec": {
   "display_name": "ilumpy",
   "language": "python",
   "name": "ilumpy"
  },
  "language_info": {
   "codemirror_mode": {
    "name": "ipython",
    "version": 3
   },
   "file_extension": ".py",
   "mimetype": "text/x-python",
   "name": "python",
   "nbconvert_exporter": "python",
   "pygments_lexer": "ipython3",
   "version": "3.9.7"
  },
  "org": null
 },
 "nbformat": 4,
 "nbformat_minor": 4
}
