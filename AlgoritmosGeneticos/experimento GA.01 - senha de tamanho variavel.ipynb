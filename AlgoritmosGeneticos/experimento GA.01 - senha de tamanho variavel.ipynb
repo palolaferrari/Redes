{
 "cells": [
  {
   "cell_type": "markdown",
   "metadata": {},
   "source": [
    "experimento GA.01 - senha de tamanho variavel\n",
    "========================================\n",
    "\n"
   ]
  },
  {
   "cell_type": "markdown",
   "metadata": {},
   "source": [
    "## Introdução\n",
    "\n"
   ]
  },
  {
   "cell_type": "markdown",
   "metadata": {},
   "source": [
    "Esse experimento consiste me utilizar o algoritmo utilizado na aula 'descobrindo a senha' para achar uma senha pré-determinada, mas ao invés de definir uma variável com o tamanho da senha, o próprio algoritmo chuta um tamanho inicial, sendo que ele é aleatório. Assim, não colocamos o tamanho da senha verdadeira dentro das próprias funções, somente na hora final para a checagem. \n"
   ]
  },
  {
   "cell_type": "markdown",
   "metadata": {},
   "source": [
    "## Objetivo\n",
    "\n"
   ]
  },
  {
   "cell_type": "markdown",
   "metadata": {},
   "source": [
    " Resolver o problema da senha sem fornecer a informação do tamanho da senha para a função que gera a população.\n",
    " "
   ]
  },
  {
   "cell_type": "markdown",
   "metadata": {},
   "source": [
    "## Importações\n",
    "\n"
   ]
  },
  {
   "cell_type": "markdown",
   "metadata": {},
   "source": [
    "Todos os comandos de `import` devem estar dentro desta seção.\n",
    "\n"
   ]
  },
  {
   "cell_type": "code",
   "execution_count": 1,
   "metadata": {},
   "outputs": [],
   "source": [
    "from funcoes import populacao_inicial_senha_variavel\n",
    "from funcoes import individuo_senha_variavel\n",
    "from funcoes import funcao_objetivo_pop_sv \n",
    "from funcoes import funcao_objetivo_sv\n",
    "from funcoes import selecao_torneio_min\n",
    "from funcoes import cruzamento_ponto_simples_sv\n",
    "from funcoes import mutacao_senha_sv\n",
    "import random"
   ]
  },
  {
   "cell_type": "markdown",
   "metadata": {},
   "source": [
    "## Códigos e discussão\n",
    "\n"
   ]
  },
  {
   "cell_type": "markdown",
   "metadata": {},
   "source": [
    "-   Use células de código para o código.\n",
    "\n",
    "-   Use células de texto para a discussão.\n",
    "\n",
    "-   A discussão não deve ser feita em comentários dentro das células de código. Toda discussão deve acontecer após o resultado sendo discutido foi apresentado. Exemplo: não discuta um gráfico antes de apresentá-lo.\n",
    "\n"
   ]
  },
  {
   "cell_type": "code",
   "execution_count": 2,
   "metadata": {},
   "outputs": [],
   "source": [
    "# criar letras para a senha \n",
    "# juntar as letras\n",
    "# juntar as palavras\n",
    "# selecionar qual a senha que seja mais parecida com a nossa de acordo com a soma das letras (ord)\n",
    "# cruzamento e mutações\n",
    "\n",
    "### CONSTANTES\n",
    "\n",
    "# relacionadas à busca\n",
    "TAMANHO_POP = 10\n",
    "#NUM_GERACOES = 2000\n",
    "CHANCE_CRUZAMENTO = 0.5\n",
    "CHANCE_MUTACAO = 0.05\n",
    "NUM_COMBATENTES_NO_TORNEIO = 3\n",
    "\n",
    "\n",
    "# relacionadas ao problema a ser resulvido\n",
    "SENHA_REAL = \"deucerrtooo\"\n",
    "LETRAS_POSSIVEIS = \"abcdefghijklmnopqrstuvwxyz\"\n",
    "MAX_TAMANHO = 100\n",
    "PESO_PENALIDADE = 60\n"
   ]
  },
  {
   "cell_type": "code",
   "execution_count": 3,
   "metadata": {},
   "outputs": [],
   "source": [
    "# funções locais\n",
    "\n",
    "def cria_populacao_inicial(tamanho, tamanho_senha):\n",
    "    return populacao_inicial_senha_variavel(TAMANHO_POP, MAX_TAMANHO, LETRAS_POSSIVEIS)\n",
    "\n",
    "def funcao_objetivo_pop(populacao):\n",
    "    return  funcao_objetivo_pop_sv (populacao, SENHA_REAL, PESO_PENALIDADE )\n",
    "\n",
    "def funcao_selecao(populacao, fitness):\n",
    "    return selecao_torneio_min(populacao, fitness, tamanho_torneio=3)\n",
    "\n",
    "def funcao_mutacao(individuo):\n",
    "    return  mutacao_senha_sv(individuo, LETRAS_POSSIVEIS, MAX_TAMANHO)"
   ]
  },
  {
   "cell_type": "code",
   "execution_count": 4,
   "metadata": {},
   "outputs": [
    {
     "name": "stdout",
     "output_type": "stream",
     "text": [
      "Progresso da melhor senha já vista:\n",
      "xmweogmfyblp - fitness: 158\n",
      "xphawqlelp - fitness: 150\n",
      "rphawqlelp - fitness: 144\n",
      "rpjawqlelp - fitness: 142\n",
      "hpjawqlelp - fitness: 132\n",
      "hpjauqlelp - fitness: 130\n",
      "hpjagqlelp - fitness: 116\n",
      "hpjagqwelp - fitness: 115\n",
      "hpjagqoelp - fitness: 113\n",
      "hpwagqoelp - fitness: 104\n",
      "hpwagqozlp - fitness: 95\n",
      "hjwagqozlp - fitness: 89\n",
      "hjwagqoplp - fitness: 87\n",
      "djwagqoplp - fitness: 83\n",
      "djwagqoplo - fitness: 82\n",
      "djwagqoplor - fitness: 25\n",
      "dbwagqoplor - fitness: 23\n",
      "dbwbgqoplor - fitness: 22\n",
      "dfwbgqoplor - fitness: 20\n",
      "dfwbgqpplor - fitness: 19\n",
      "dfwbgspploq - fitness: 18\n",
      "dfwbgspploo - fitness: 16\n",
      "dfwbgsppmoo - fitness: 15\n",
      "dfwbgsqpmoo - fitness: 14\n",
      "dfwbgsqqmoo - fitness: 13\n",
      "dftbgsqqmoo - fitness: 12\n",
      "dftbesqqmoo - fitness: 10\n",
      "dftberqqmoo - fitness: 9\n",
      "dftcerqqmoo - fitness: 8\n",
      "dftcerqumoo - fitness: 6\n",
      "detcerqumoo - fitness: 5\n",
      "deucerqumoo - fitness: 4\n",
      "deucerqtmoo - fitness: 3\n",
      "deucerrtmoo - fitness: 2\n",
      "deucerrtooo - fitness: 0\n",
      "\n",
      "Melhor palpite da senha encontrado:\n",
      "deucerrtooo\n",
      "\n",
      "não foi preciso mudar nada no código original, somente nas funções em si dentro do funcoes.py e a adição da variavel `tamanho_max`, que serve para nao utilizar o tamanho real durante o código todo\n"
     ]
    }
   ],
   "source": [
    "populacao = populacao_inicial_senha_variavel(TAMANHO_POP, MAX_TAMANHO, LETRAS_POSSIVEIS)\n",
    "\n",
    "melhor_fitness_ja_visto = float(\"inf\")  # é assim que escrevemos infinito em python\n",
    "\n",
    "print(\"Progresso da melhor senha já vista:\")\n",
    "\n",
    "while melhor_fitness_ja_visto !=0 :    \n",
    "    \n",
    "    # Seleção\n",
    "    fitness = funcao_objetivo_pop(populacao)\n",
    "    populacao = funcao_selecao(populacao, fitness)\n",
    "    \n",
    "    # Cruzamento\n",
    "    pais = populacao[0::2]\n",
    "    maes = populacao[1::2]\n",
    "    \n",
    "    contador = 0\n",
    "    \n",
    "    for pai, mae in zip(pais, maes):\n",
    "        if random.random() <= CHANCE_CRUZAMENTO:\n",
    "            filho1, filho2 = cruzamento_ponto_simples_sv(pai, mae)\n",
    "            populacao[contador] = filho1\n",
    "            populacao[contador + 1] = filho2\n",
    "        \n",
    "        contador = contador + 2   \n",
    "        \n",
    "    # Mutação\n",
    "    for n in range(len(populacao)):\n",
    "        if random.random() <= CHANCE_MUTACAO:\n",
    "            individuo = populacao[n]\n",
    "            populacao[n] = funcao_mutacao(individuo)            \n",
    "            \n",
    "    # melhor individuo já visto até agora\n",
    "    fitness = funcao_objetivo_pop(populacao)\n",
    "    menor_fitness = min(fitness)\n",
    "    if menor_fitness < melhor_fitness_ja_visto:        \n",
    "        posicao = fitness.index(menor_fitness)\n",
    "        melhor_individuo_ja_visto = populacao[posicao]\n",
    "        melhor_fitness_ja_visto = menor_fitness\n",
    "        print(\"\".join(melhor_individuo_ja_visto), \"- fitness:\", melhor_fitness_ja_visto)\n",
    "\n",
    "\n",
    "print()\n",
    "print(\"Melhor palpite da senha encontrado:\")\n",
    "print(\"\".join(melhor_individuo_ja_visto))\n",
    "\n",
    "print()\n",
    "print(\"não foi preciso mudar nada no código original, somente nas funções em si dentro do funcoes.py e a adição da variavel `tamanho_max`, que serve para nao utilizar o tamanho real durante o código todo\")"
   ]
  },
  {
   "cell_type": "markdown",
   "metadata": {},
   "source": [
    "## Conclusão\n",
    "\n"
   ]
  },
  {
   "cell_type": "markdown",
   "metadata": {},
   "source": [
    "Para resolver o problema da senha de tamanho variável, pensamos que quando o algoritmo fosse dar aleatóriamente uma senha, o seu tamanho também teria que ser aleatório. Fizemos novas funções de população, cruzamento, mutação e as funções objetivos em comparação ao problema da senha original. Na hora de fazermos as funções objetivos, tivemos que pensar em um modo de o algoritmo chegar no tamanho certo da senha, para tal, somamos um número alto (para afastar de zero) a cada letra que está diferente do nosso tamanho original. Ao final, não tivemos problemas com os index e o progresso da \"melhor senha já vista\" acaba tendo senhas que são muito próximas do nosso tamanho real, já que a penalidade foi implementada antes do hall da fama. \n",
    "\n",
    "Utilizamos bastante de algoritmos já feitos, somente mudando a lógica para o nosso problema, o que foi positivo, porque tivemos que escrever menos, mas negativo, por termos que alterar alogo já feito, porém com alguns detalhes diferentes, o que torna mais dificil identificar onde estão os erros. \n"
   ]
  },
  {
   "cell_type": "markdown",
   "metadata": {},
   "source": [
    "## Playground\n",
    "\n"
   ]
  },
  {
   "cell_type": "markdown",
   "metadata": {},
   "source": [
    "Todo código de teste que não faz parte do seu experimento deve vir aqui. Este código não será considerado na avaliação.\n",
    "\n"
   ]
  },
  {
   "cell_type": "code",
   "execution_count": 5,
   "metadata": {},
   "outputs": [
    {
     "data": {
      "text/plain": [
       "3"
      ]
     },
     "execution_count": 5,
     "metadata": {},
     "output_type": "execute_result"
    }
   ],
   "source": [
    "senha = \"ola\"\n",
    "\n",
    "len(\"ola\")"
   ]
  },
  {
   "cell_type": "code",
   "execution_count": null,
   "metadata": {},
   "outputs": [],
   "source": []
  }
 ],
 "metadata": {
  "kernelspec": {
   "display_name": "ilumpy",
   "language": "python",
   "name": "ilumpy"
  },
  "language_info": {
   "codemirror_mode": {
    "name": "ipython",
    "version": 3
   },
   "file_extension": ".py",
   "mimetype": "text/x-python",
   "name": "python",
   "nbconvert_exporter": "python",
   "pygments_lexer": "ipython3",
   "version": "3.9.7"
  },
  "org": null
 },
 "nbformat": 4,
 "nbformat_minor": 4
}
